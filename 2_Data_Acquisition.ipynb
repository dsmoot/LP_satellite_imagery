{
 "cells": [
  {
   "cell_type": "markdown",
   "metadata": {},
   "source": [
    "<table style=\"font-size: 1em; padding: 0; margin: 0;\">\n",
    "<p style=\"border: 1px solid #ff5733; border-left: 15px solid #ff5733; padding: 10px; text-align:justify;\">\n",
    "    <strong style=\"color: #ff5733\">Deliverable</strong>  \n",
    "    <br/>The deliverable for Part 2 is a jupyter notebook showing a workflow to create test and training datasets, consisting of folders of imagery and corresponding label imagery, ready for training a semantic segmentation model in keras. This will mostly test your understanding the generic workflow for preparing a dataset to train and test a deep learning model, which is an essential component of the remaining Parts.\n",
    "    </p>"
   ]
  },
  {
   "cell_type": "code",
   "execution_count": 2,
   "metadata": {},
   "outputs": [],
   "source": [
    "import os\n",
    "import urllib.request"
   ]
  },
  {
   "cell_type": "markdown",
   "metadata": {},
   "source": [
    "## Dataset 1"
   ]
  },
  {
   "cell_type": "markdown",
   "metadata": {},
   "source": [
    "Text from the Buscomb Live Project:\n",
    "\n",
    "Use the Sentinel-2 cloudless image service (\"option 1\") as a means to easily acquire cloudless mosaiced imagery from some of Earth's critical lakes that collectively provide drinking water to countless millions of people. You can use the website to explore and compare changes visually between 2016 and 2018 everywhere, and also 2017 for Europe only. This is the data you will be attempting to test your model (trained on another dataset that is introduced later).\n",
    "\n",
    "Tip. If you use the download tool to obtain an image tile, you will see some structure in the URL. For example,\n",
    "https://tiles.maps.eox.at/wms?service=wms&request=getmap&version=1.1.1&layers=s2cloudless-2018&bbox=10.232263646327286,-0.670557747166987,10.334917149745255,-0.5679042437490183&width=4096&height=4096&srs=epsg:4326\n",
    "\n",
    "Let's break this down a little:\n",
    "\n",
    "https://tiles.maps.eox.at/wms?service=wms&request=getmap&version=1.1.1: The root of the service that always stays the same. WMS stands for Web Map Service.\n",
    "layers=s2cloudless2018: The layer to get. Other options are \"s2cloudless\" for 2016 imagery, and \"s2cloudless2017\" for 2017 imagery (Europe only).\n",
    "bbox=10.232263646327286,-0.670557747166987,10.334917149745255,-0.5679042437490183: the bounding box coordinates (region of interest) in the form south Latitude, west Longitude, north Latitude, east Longitude.\n",
    "width=4096&height=4096: the width and height of the image in number of pixels\n",
    "srs=epsg:4326: the epsg code (coordinate projection system) that pertains to the bounding box coordinates. In this example the epsg code is 4326, which is GPS coordinates (WGS 84)."
   ]
  },
  {
   "cell_type": "markdown",
   "metadata": {},
   "source": [
    "Download time-series of images from 17 critically endangered lake systems:\n",
    "1. <a href=\"https://en.wikipedia.org/wiki/Lake_Poop%C3%B3\">Lake Poopo, Bolivia</a>\n",
    "\n",
    "2. <a href=\"https://en.wikipedia.org/wiki/Lake_Urmia\">Lake Urmia, Iran</a> \n",
    " \n",
    "3. <a href=\"https://en.wikipedia.org/wiki/Lake_Mead\">Lake Mead</a>/<a href=\"https://en.wikipedia.org/wiki/Lake_Mohave\">Lake Mojave</a>, USA\n",
    "\n",
    "4. <a href=\"https://en.wikipedia.org/wiki/Aral_Sea\">Aral sea, Kazahkstan</a>\n",
    "\n",
    "5. <a href=\"https://en.wikipedia.org/wiki/Lake_Copais\">Lake Copais, Greece</a>\n",
    "\n",
    "6. <a href=\"https://en.wikipedia.org/wiki/Ramganga_Dam\">Lake Ramganga, India</a>\n",
    " \n",
    "7. <a href=\"https://en.wikipedia.org/wiki/Qinghai_Lake\">Qinghai Lake, China</a> \n",
    "\n",
    "8. <a href=\"https://en.wikipedia.org/wiki/Salton_Sea\">Salton Sea, USA</a> \n",
    "\n",
    "9. <a href=\"https://earthobservatory.nasa.gov/images/8991/drying-of-lake-faguibine-mali\">Lake Faguibine, Mali</a> \n",
    " \n",
    "10. <a href=\"https://en.wikipedia.org/wiki/Mono_Lake\">Mono Lake, USA</a> \n",
    "\n",
    "11. <a href=\"https://en.wikipedia.org/wiki/Walker_Lake_(Nevada)\">Walker Lake, USA</a>\n",
    "\n",
    "12. <a href=\"https://en.wikipedia.org/wiki/Lake_Balaton\">Lake Balaton, Hungary</a>\n",
    "\n",
    "13. <a href=\"https://en.wikipedia.org/wiki/Lake_Koroneia\">Lake Koroneia, Greece</a>\n",
    "\n",
    "14. <a href=\"https://en.wikipedia.org/wiki/Lake_Salda\">Lake Salda, Turkey</a>\n",
    "\n",
    "15. <a href=\"https://en.wikipedia.org/wiki/Lake_Burdur\">Lake Burdur, Turkey</a>\n",
    "\n",
    "16. <a href=\"https://en.wikipedia.org/wiki/Lake_Mendocino\">Lake Mendocino, USA</a>\n",
    "\n",
    "17. <a href=\"https://en.wikipedia.org/wiki/Elephant_Butte_Reservoir\">Elephant Butte Reservoir, USA</a>\n",
    "\n",
    "You can read about some of these sites and their problems in a <a href=\"https://www.nationalgeographic.com/magazine/2018/03/drying-lakes-climate-change-global-warming-drought/\">2018 National Geographic article</a>"
   ]
  },
  {
   "cell_type": "code",
   "execution_count": 3,
   "metadata": {},
   "outputs": [],
   "source": [
    "def download_all_layers(root,layers,bbox,width,height,srs,site):\n",
    "    #cycle through each layer to download\n",
    "    for layer in layers:\n",
    "        # construct a URL string \n",
    "        url = root+layer+bbox+width+height+srs\n",
    "        #download into a filename constructed as \"site_layer.jpg\"\n",
    "        urllib.request.urlretrieve(url, site+'_'+layer.split('=')[-1].split('&')[0]+'.jpg')"
   ]
  },
  {
   "cell_type": "code",
   "execution_count": 4,
   "metadata": {},
   "outputs": [],
   "source": [
    "#Lake Poopo, Bolivia\n",
    "root = \"https://tiles.maps.eox.at/wms?service=wms&request=getmap&version=1.1.1&\"\n",
    "site='poopo'\n",
    "bbox = 'bbox=-68.66848367000537,-19.687928531849003,-66.67924128546656,-17.8774477409051&'\n",
    "width = 'width=4096&'\n",
    "height = 'height=4096&'\n",
    "layers = ['layers=s2cloudless&', 'layers=s2cloudless-2018&']\n",
    "srs = 'srs=epsg:4326'"
   ]
  },
  {
   "cell_type": "code",
   "execution_count": 5,
   "metadata": {},
   "outputs": [],
   "source": [
    "download_all_layers(root,layers,bbox,width,height,srs,site)"
   ]
  },
  {
   "cell_type": "code",
   "execution_count": null,
   "metadata": {},
   "outputs": [],
   "source": []
  }
 ],
 "metadata": {
  "kernelspec": {
   "display_name": "conda_tensorflow2_p36",
   "language": "python",
   "name": "conda_tensorflow2_p36"
  },
  "language_info": {
   "codemirror_mode": {
    "name": "ipython",
    "version": 3
   },
   "file_extension": ".py",
   "mimetype": "text/x-python",
   "name": "python",
   "nbconvert_exporter": "python",
   "pygments_lexer": "ipython3",
   "version": "3.6.10"
  }
 },
 "nbformat": 4,
 "nbformat_minor": 4
}
