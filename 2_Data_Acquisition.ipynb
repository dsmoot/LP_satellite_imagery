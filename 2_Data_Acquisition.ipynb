{
 "cells": [
  {
   "cell_type": "markdown",
   "metadata": {},
   "source": [
    "<table style=\"font-size: 1em; padding: 0; margin: 0;\">\n",
    "<p style=\"border: 1px solid #ff5733; border-left: 15px solid #ff5733; padding: 10px; text-align:justify;\">\n",
    "    <strong style=\"color: #ff5733\">Deliverable</strong>  \n",
    "    <br/>The deliverable for Part 2 is a jupyter notebook showing a workflow to create test and training datasets, consisting of folders of imagery and corresponding label imagery, ready for training a semantic segmentation model in keras. This will mostly test your understanding the generic workflow for preparing a dataset to train and test a deep learning model, which is an essential component of the remaining Parts.\n",
    "    </p>"
   ]
  },
  {
   "cell_type": "code",
   "execution_count": null,
   "metadata": {},
   "outputs": [],
   "source": []
  },
  {
   "cell_type": "code",
   "execution_count": 1,
   "metadata": {},
   "outputs": [
    {
     "ename": "ModuleNotFoundError",
     "evalue": "No module named 'rasterio'",
     "output_type": "error",
     "traceback": [
      "\u001b[1;31m---------------------------------------------------------------------------\u001b[0m",
      "\u001b[1;31mModuleNotFoundError\u001b[0m                       Traceback (most recent call last)",
      "\u001b[1;32m<ipython-input-1-6747299d1ed0>\u001b[0m in \u001b[0;36m<module>\u001b[1;34m\u001b[0m\n\u001b[0;32m      3\u001b[0m \u001b[1;32mimport\u001b[0m \u001b[0mglob\u001b[0m\u001b[1;33m\u001b[0m\u001b[1;33m\u001b[0m\u001b[0m\n\u001b[0;32m      4\u001b[0m \u001b[1;32mimport\u001b[0m \u001b[0mshutil\u001b[0m\u001b[1;33m\u001b[0m\u001b[1;33m\u001b[0m\u001b[0m\n\u001b[1;32m----> 5\u001b[1;33m \u001b[1;32mimport\u001b[0m \u001b[0mrasterio\u001b[0m\u001b[1;33m\u001b[0m\u001b[1;33m\u001b[0m\u001b[0m\n\u001b[0m",
      "\u001b[1;31mModuleNotFoundError\u001b[0m: No module named 'rasterio'"
     ]
    }
   ],
   "source": [
    "import os\n",
    "import urllib.request\n",
    "import glob\n",
    "import shutil\n",
    "import rasterio"
   ]
  },
  {
   "cell_type": "markdown",
   "metadata": {},
   "source": [
    "## Dataset 1"
   ]
  },
  {
   "cell_type": "markdown",
   "metadata": {},
   "source": [
    "Text from the Buscomb Live Project:\n",
    "\n",
    "Use the Sentinel-2 cloudless image service (\"option 1\") as a means to easily acquire cloudless mosaiced imagery from some of Earth's critical lakes that collectively provide drinking water to countless millions of people. You can use the website to explore and compare changes visually between 2016 and 2018 everywhere, and also 2017 for Europe only. This is the data you will be attempting to test your model (trained on another dataset that is introduced later).\n",
    "\n",
    "Tip. If you use the download tool to obtain an image tile, you will see some structure in the URL. For example,\n",
    "https://tiles.maps.eox.at/wms?service=wms&request=getmap&version=1.1.1&layers=s2cloudless-2018&bbox=10.232263646327286,-0.670557747166987,10.334917149745255,-0.5679042437490183&width=4096&height=4096&srs=epsg:4326\n",
    "\n",
    "Let's break this down a little:\n",
    "\n",
    "https://tiles.maps.eox.at/wms?service=wms&request=getmap&version=1.1.1: The root of the service that always stays the same. WMS stands for Web Map Service.\n",
    "layers=s2cloudless2018: The layer to get. Other options are \"s2cloudless\" for 2016 imagery, and \"s2cloudless2017\" for 2017 imagery (Europe only).\n",
    "bbox=10.232263646327286,-0.670557747166987,10.334917149745255,-0.5679042437490183: the bounding box coordinates (region of interest) in the form south Latitude, west Longitude, north Latitude, east Longitude.\n",
    "width=4096&height=4096: the width and height of the image in number of pixels\n",
    "srs=epsg:4326: the epsg code (coordinate projection system) that pertains to the bounding box coordinates. In this example the epsg code is 4326, which is GPS coordinates (WGS 84)."
   ]
  },
  {
   "cell_type": "markdown",
   "metadata": {},
   "source": [
    "Download time-series of images from 17 critically endangered lake systems:\n",
    "1. <a href=\"https://en.wikipedia.org/wiki/Lake_Poop%C3%B3\">Lake Poopo, Bolivia</a>\n",
    "\n",
    "2. <a href=\"https://en.wikipedia.org/wiki/Lake_Urmia\">Lake Urmia, Iran</a> \n",
    " \n",
    "3. <a href=\"https://en.wikipedia.org/wiki/Lake_Mead\">Lake Mead</a>/<a href=\"https://en.wikipedia.org/wiki/Lake_Mohave\">Lake Mojave</a>, USA\n",
    "\n",
    "4. <a href=\"https://en.wikipedia.org/wiki/Aral_Sea\">Aral sea, Kazahkstan</a>\n",
    "\n",
    "5. <a href=\"https://en.wikipedia.org/wiki/Lake_Copais\">Lake Copais, Greece</a>\n",
    "\n",
    "6. <a href=\"https://en.wikipedia.org/wiki/Ramganga_Dam\">Lake Ramganga, India</a>\n",
    " \n",
    "7. <a href=\"https://en.wikipedia.org/wiki/Qinghai_Lake\">Qinghai Lake, China</a> \n",
    "\n",
    "8. <a href=\"https://en.wikipedia.org/wiki/Salton_Sea\">Salton Sea, USA</a> \n",
    "\n",
    "9. <a href=\"https://earthobservatory.nasa.gov/images/8991/drying-of-lake-faguibine-mali\">Lake Faguibine, Mali</a> \n",
    " \n",
    "10. <a href=\"https://en.wikipedia.org/wiki/Mono_Lake\">Mono Lake, USA</a> \n",
    "\n",
    "11. <a href=\"https://en.wikipedia.org/wiki/Walker_Lake_(Nevada)\">Walker Lake, USA</a>\n",
    "\n",
    "12. <a href=\"https://en.wikipedia.org/wiki/Lake_Balaton\">Lake Balaton, Hungary</a>\n",
    "\n",
    "13. <a href=\"https://en.wikipedia.org/wiki/Lake_Koroneia\">Lake Koroneia, Greece</a>\n",
    "\n",
    "14. <a href=\"https://en.wikipedia.org/wiki/Lake_Salda\">Lake Salda, Turkey</a>\n",
    "\n",
    "15. <a href=\"https://en.wikipedia.org/wiki/Lake_Burdur\">Lake Burdur, Turkey</a>\n",
    "\n",
    "16. <a href=\"https://en.wikipedia.org/wiki/Lake_Mendocino\">Lake Mendocino, USA</a>\n",
    "\n",
    "17. <a href=\"https://en.wikipedia.org/wiki/Elephant_Butte_Reservoir\">Elephant Butte Reservoir, USA</a>\n",
    "\n",
    "You can read about some of these sites and their problems in a <a href=\"https://www.nationalgeographic.com/magazine/2018/03/drying-lakes-climate-change-global-warming-drought/\">2018 National Geographic article</a>"
   ]
  },
  {
   "cell_type": "markdown",
   "metadata": {},
   "source": [
    "#### Step 1: Download individual sites from S2 cloudless"
   ]
  },
  {
   "cell_type": "code",
   "execution_count": 2,
   "metadata": {},
   "outputs": [],
   "source": [
    "def download_all_layers(root,layers,bbox,width,height,srs,site):\n",
    "    #cycle through each layer to download\n",
    "    for layer in layers:\n",
    "        # construct a URL string \n",
    "        url = root+layer+bbox+width+height+srs\n",
    "        #download into a filename constructed as \"site_layer.jpg\"\n",
    "        urllib.request.urlretrieve(url, site+'_'+layer.split('=')[-1].split('&')[0]+'.jpg')"
   ]
  },
  {
   "cell_type": "code",
   "execution_count": 3,
   "metadata": {},
   "outputs": [],
   "source": [
    "#Lake Poopo, Bolivia\n",
    "root = \"https://tiles.maps.eox.at/wms?service=wms&request=getmap&version=1.1.1&\"\n",
    "site='poopo'\n",
    "bbox = 'bbox=-68.66848367000537,-19.687928531849003,-66.67924128546656,-17.8774477409051&'\n",
    "width = 'width=4096&'\n",
    "height = 'height=4096&'\n",
    "layers = ['layers=s2cloudless&', 'layers=s2cloudless-2018&']\n",
    "srs = 'srs=epsg:4326'"
   ]
  },
  {
   "cell_type": "code",
   "execution_count": 4,
   "metadata": {},
   "outputs": [],
   "source": [
    "download_all_layers(root,layers,bbox,width,height,srs,site)"
   ]
  },
  {
   "cell_type": "code",
   "execution_count": 5,
   "metadata": {},
   "outputs": [],
   "source": [
    "#Lake Urmia, Iran\n",
    "bbox = 'bbox=44.587725529095295,36.86436828406643,46.230181583782795,38.50682433875393&'\n",
    "layers = ['layers=s2cloudless&', 'layers=s2cloudless-2017&', 'layers=s2cloudless-2018&']\n",
    "download_all_layers(root,layers,bbox,width,height,srs,'urmia')\n",
    "\n",
    "#Lake Mead/ Lake Mojave, USA\n",
    "bbox = 'bbox=-115.42507235769445,34.94273489926993,-113.78261630300695,36.58519095395743&'\n",
    "layers = ['layers=s2cloudless&','layers=s2cloudless-2018&']\n",
    "download_all_layers(root,layers,bbox,width,height,srs,'mead_mojave')\n",
    "\n",
    "#Aral Sea, Kazahkstan\n",
    "bbox = 'bbox=58.032853536637845,43.955292007325,61.317765646012845,47.2402041167&'\n",
    "download_all_layers(root,layers,bbox,width,height,srs,'aral_sea')\n",
    "\n",
    "#Copais Lake, Greece\n",
    "bbox = 'bbox=23.214268551013436,38.36067354565393,23.350911007068124,38.4633270490719&'\n",
    "layers = ['layers=s2cloudless&', 'layers=s2cloudless-2017&', 'layers=s2cloudless-2018&']\n",
    "download_all_layers(root,layers,bbox,width,height,srs,'copais')\n",
    "\n",
    "#Ramganga Lake, India\n",
    "bbox = 'bbox=78.63716910452058,29.468167756293038,78.91045401662996,29.673474763128976&'\n",
    "layers = ['layers=s2cloudless&','layers=s2cloudless-2018&']\n",
    "download_all_layers(root,layers,bbox,width,height,srs,'ramganga')\n",
    "\n",
    "#Qinghai Lake, China \n",
    "bbox = 'bbox=99.56471967977474,35.70094613663666,101.20168257039974,37.34340219132416&'\n",
    "download_all_layers(root,layers,bbox,width,height,srs,'qinghai')\n",
    "\n",
    "#Salton Sea, USA \n",
    "bbox = 'bbox=-116.21928854749297,32.903320741965295,-115.40080710218047,33.724548769309045&'\n",
    "download_all_layers(root,layers,bbox,width,height,srs,'salton_sea')\n",
    "\n",
    "# Lake Faguibine, Mali\n",
    "bbox = 'bbox=-4.656089323623854,14.959306189862815,-3.0191264329988536,16.601762244550315&'\n",
    "width = 'width=4082&'\n",
    "download_all_layers(root,layers,bbox,width,height,srs,'faguibine')\n",
    "\n",
    "# Mono Lake, USA\n",
    "bbox = 'bbox=-119.22357779576633,37.797192162208084,-118.81433707311008,38.20780617587996&'\n",
    "download_all_layers(root,layers,bbox,width,height,srs,'mono')\n",
    "\n",
    "# Walker Lake, USA\n",
    "bbox = 'bbox=-118.82841344222616,38.58649115903216,-118.62379308089804,38.791798165868094&'\n",
    "download_all_layers(root,layers,bbox,width,height,srs,'walker')\n",
    "\n",
    "# Lake Balaton, Hungary\n",
    "width = 'width=4096&'\n",
    "height = 'height=3084&'\n",
    "layers = ['layers=s2cloudless&', 'layers=s2cloudless-2017&', 'layers=s2cloudless-2018&']\n",
    "bbox = 'bbox=17.138306471163226,46.438781725159295,18.231446119600726,47.260009752503045&'\n",
    "download_all_layers(root,layers,bbox,width,height,srs,'balaton')\n",
    "\n",
    "# Lake Koroneia, Greece\n",
    "bbox = 'bbox=23.34167375183668,40.56321556296156,23.614958663946055,40.7685225697975&'\n",
    "download_all_layers(root,layers,bbox,width,height,srs,'koroneia')\n",
    "\n",
    "# Lake Salda, Turkey\n",
    "width = 'width=4082&'\n",
    "height = 'height=4096&'\n",
    "bbox = 'bbox=29.6337346568769,37.49763563391751,29.736044837540963,37.60028913733548&'\n",
    "download_all_layers(root,layers,bbox,width,height,srs,'salda')\n",
    "\n",
    "# Lake Burdur, Turkey\n",
    "width = 'width=4096&'\n",
    "height = 'height=2312&'\n",
    "bbox = 'bbox=30.008970333642345,37.6345355820376,30.373579098290783,37.83984258887354&'\n",
    "download_all_layers(root,layers,bbox,width,height,srs,'burdur')\n",
    "\n",
    "# Lake Mendocino, USA\n",
    "width = 'width=4082&'\n",
    "height = 'height=4096&'\n",
    "bbox = 'bbox=-123.19613698824355,39.189371563341254,-123.14498189791152,39.24069831505024&'\n",
    "layers = ['layers=s2cloudless&','layers=s2cloudless-2018&']\n",
    "download_all_layers(root,layers,bbox,width,height,srs,'mendocino')\n",
    "\n",
    "# Elephant Butte Reservoir, USA\n",
    "bbox = 'bbox=-107.23803910498334,33.14614806405013,-107.13572892431928,33.2488015674681&'\n",
    "download_all_layers(root,layers,bbox,width,height,srs,'elephant_butte')"
   ]
  },
  {
   "cell_type": "code",
   "execution_count": 8,
   "metadata": {},
   "outputs": [],
   "source": [
    "data_path = 'data/s2cloudless_imagery'\n",
    "\n",
    "try:\n",
    "    os.mkdir(data_path)\n",
    "except:\n",
    "    pass\n",
    "\n",
    "try:\n",
    "    for f in glob.glob('*.jpg'):\n",
    "        #move to the new directory\n",
    "        if f.endswith('s2cloudless.jpg'): #2016 imagery\n",
    "            shutil.move(f, os.path.join(data_path,f.replace('s2cloudless.jpg','s2cloudless-2016.jpg')))\n",
    "        else: #2017 or 2018 imagery\n",
    "            shutil.move(f, data_path)\n",
    "except:\n",
    "    pass        "
   ]
  },
  {
   "cell_type": "markdown",
   "metadata": {},
   "source": [
    "#### Step 2: View downloaded images"
   ]
  },
  {
   "cell_type": "code",
   "execution_count": null,
   "metadata": {},
   "outputs": [],
   "source": [
    "# define a list of sites\n",
    "sites = ['aral_sea','balaton','burdur','copais','elephant_butte',\n",
    "         'faguibine','koroneia','mead_mojave','mendocino','mono',\n",
    "         'poopo','qinghai','ramganga','salda','urmia','walker']"
   ]
  }
 ],
 "metadata": {
  "kernelspec": {
   "display_name": "Python 3",
   "language": "python",
   "name": "python3"
  },
  "language_info": {
   "codemirror_mode": {
    "name": "ipython",
    "version": 3
   },
   "file_extension": ".py",
   "mimetype": "text/x-python",
   "name": "python",
   "nbconvert_exporter": "python",
   "pygments_lexer": "ipython3",
   "version": "3.8.3rc1"
  }
 },
 "nbformat": 4,
 "nbformat_minor": 4
}
