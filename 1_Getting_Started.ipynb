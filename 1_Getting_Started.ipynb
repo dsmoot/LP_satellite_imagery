{
 "cells": [
  {
   "cell_type": "markdown",
   "metadata": {},
   "source": [
    "<table style=\"font-size: 1em; padding: 0; margin: 0;\">\n",
    "<p style=\"border: 1px solid #ff5733; border-left: 15px solid #ff5733; padding: 10px; text-align:justify;\">\n",
    "    <strong style=\"color: #ff5733\">Deliverable</strong>  \n",
    "    <br/>The deliverable for Part 1 is a jupyter notebook showing an example image(s) of a satellite dataset read in using rasterio, and demonstration of a function that carries out a manipulation of that image using keras and Tensorflow 2.0. That manipulation could be anything that alters the image, such as its size, geometry (shape), pixel intensities, or spatial projection. This will mostly test your understanding of keras syntax, which is an essential component of the remaining Parts. You may find the <a href=\"https://www.tensorflow.org/api_docs/python/tf/image\">tensorflow-image</a> library helpful.\n",
    "    </p>"
   ]
  },
  {
   "cell_type": "code",
   "execution_count": 1,
   "metadata": {},
   "outputs": [
    {
     "name": "stdout",
     "output_type": "stream",
     "text": [
      "--2020-10-29 00:11:39--  https://lx-common-resources.s3-us-west-2.amazonaws.com/lp-buscombe/Buscombe_liveProject_Feb2020.zip\n",
      "Resolving lx-common-resources.s3-us-west-2.amazonaws.com (lx-common-resources.s3-us-west-2.amazonaws.com)... 52.218.244.25\n",
      "Connecting to lx-common-resources.s3-us-west-2.amazonaws.com (lx-common-resources.s3-us-west-2.amazonaws.com)|52.218.244.25|:443... connected.\n",
      "HTTP request sent, awaiting response... 200 OK\n",
      "Length: 4714872 (4.5M) [application/zip]\n",
      "Saving to: ‘Buscombe_liveProject_Feb2020.zip’\n",
      "\n",
      "Buscombe_liveProjec 100%[===================>]   4.50M  7.81MB/s    in 0.6s    \n",
      "\n",
      "2020-10-29 00:11:40 (7.81 MB/s) - ‘Buscombe_liveProject_Feb2020.zip’ saved [4714872/4714872]\n",
      "\n"
     ]
    }
   ],
   "source": [
    "!wget https://lx-common-resources.s3-us-west-2.amazonaws.com/lp-buscombe/Buscombe_liveProject_Feb2020.zip"
   ]
  },
  {
   "cell_type": "code",
   "execution_count": 2,
   "metadata": {},
   "outputs": [
    {
     "name": "stdout",
     "output_type": "stream",
     "text": [
      "Archive:  Buscombe_liveProject_Feb2020.zip\n",
      "   creating: project_overview/1_GettingStarted/\n",
      "  inflating: project_overview/1_GettingStarted/Part_1_GettingStarted.ipynb  \n",
      "   creating: project_overview/1_GettingStarted/conda_env/\n",
      "  inflating: project_overview/1_GettingStarted/conda_env/env.yml  \n",
      "  inflating: project_overview/1_GettingStarted/requirements.txt  \n",
      "  inflating: project_overview/1_GettingStarted/liveProject_Buscombe_Part1.docx  \n",
      "   creating: project_overview/1_GettingStarted/.ipynb_checkpoints/\n",
      "  inflating: project_overview/1_GettingStarted/.ipynb_checkpoints/Part_1_GettingStarted-checkpoint.ipynb  \n",
      "   creating: project_overview/2_Data/\n",
      "  inflating: project_overview/2_Data/Part2_DataAcquisition_PreProcessing.ipynb  \n",
      "   creating: project_overview/2_Data/notebook_images/\n",
      "  inflating: project_overview/2_Data/notebook_images/Picture1.png  \n",
      "  inflating: project_overview/2_Data/notebook_images/Picture2.png  \n",
      "  inflating: project_overview/2_Data/notebook_images/Picture3.png  \n",
      "  inflating: project_overview/2_Data/poopo.geojson  \n",
      "   creating: project_overview/2_Data/s2cloudless_labels/\n",
      "  inflating: project_overview/2_Data/s2cloudless_labels/all_labels.json  \n",
      "  inflating: project_overview/2_Data/s2cloudless_labels/aral_sea_s2cloudless-2018.json  \n",
      "  inflating: project_overview/2_Data/s2cloudless_labels/balaton_s2cloudless-2018.json  \n",
      "  inflating: project_overview/2_Data/s2cloudless_labels/urmia_s2cloudless-2016.json  \n",
      "  inflating: project_overview/2_Data/s2cloudless_labels/merged.json  \n",
      "   creating: project_overview/2_Data/.ipynb_checkpoints/\n",
      "  inflating: project_overview/2_Data/.ipynb_checkpoints/Part2_DataAcquisition_PreProcessing-checkpoint.ipynb  \n",
      "   creating: project_overview/2_Data/nwpu_labels/\n",
      "  inflating: project_overview/2_Data/nwpu_labels/nwpu_lakes_20samplesA.json  \n",
      "  inflating: project_overview/2_Data/nwpu_labels/nwpu_lakes_20samplesB.json  \n",
      "  inflating: project_overview/2_Data/nwpu_labels/nwpu_lakes_30samples.json  \n",
      "   creating: project_overview/3_Models/\n",
      "  inflating: project_overview/3_Models/Part3_SegImages.ipynb  \n",
      "  inflating: project_overview/3_Models/all_labels.json  \n",
      "   creating: project_overview/3_Models/notebook_images/\n",
      "  inflating: project_overview/3_Models/notebook_images/fcn.png  \n",
      "  inflating: project_overview/3_Models/notebook_images/unet.png  \n",
      "   creating: project_overview/3_Models/.ipynb_checkpoints/\n",
      "  inflating: project_overview/3_Models/.ipynb_checkpoints/Part3_SegImages-checkpoint.ipynb  \n",
      "   creating: project_overview/4_Training/\n",
      "  inflating: project_overview/4_Training/Part4_Training.ipynb  \n",
      "  inflating: project_overview/4_Training/all_labels.json  \n",
      "   creating: project_overview/4_Training/.ipynb_checkpoints/\n",
      "  inflating: project_overview/4_Training/.ipynb_checkpoints/Part4_Training-checkpoint.ipynb  \n",
      "   creating: project_overview/5_Optimizing/\n",
      "   creating: project_overview/5_Optimizing/.ipynb_checkpoints/\n",
      "  inflating: project_overview/5_Optimizing/.ipynb_checkpoints/Part5_Optimizing-checkpoint.ipynb  \n",
      "  inflating: project_overview/5_Optimizing/Part5_Optimizing.ipynb  \n"
     ]
    }
   ],
   "source": [
    "# !mkdir project_overview\n",
    "# !unzip Buscombe_liveProject_Feb2020.zip -d project_overview"
   ]
  },
  {
   "cell_type": "code",
   "execution_count": 2,
   "metadata": {},
   "outputs": [],
   "source": [
    "import boto3"
   ]
  },
  {
   "cell_type": "code",
   "execution_count": 4,
   "metadata": {},
   "outputs": [],
   "source": [
    "import sagemaker\n",
    "from sagemaker import get_execution_role"
   ]
  },
  {
   "cell_type": "code",
   "execution_count": 5,
   "metadata": {},
   "outputs": [],
   "source": [
    "# session, role, bucket\n",
    "sagemaker_session = sagemaker.Session()\n",
    "role = get_execution_role()\n",
    "\n",
    "bucket = sagemaker_session.default_bucket()"
   ]
  },
  {
   "cell_type": "markdown",
   "metadata": {},
   "source": [
    "## Step 1: Download sattelite image from sentinal-2 cloudless\n"
   ]
  },
  {
   "cell_type": "code",
   "execution_count": 7,
   "metadata": {},
   "outputs": [],
   "source": [
    "import urllib.request\n"
   ]
  },
  {
   "cell_type": "code",
   "execution_count": 9,
   "metadata": {},
   "outputs": [
    {
     "name": "stdout",
     "output_type": "stream",
     "text": [
      "https://tiles.maps.eox.at/wms?service=wms&request=getmap&version=1.1.1&layers=s2cloudless-2018&bbox=-116.21928854749297,32.903320741965295,-115.40080710218047,33.724548769309045&width=4096&height=4096&srs=epsg:4326\n"
     ]
    }
   ],
   "source": [
    "root = \"https://tiles.maps.eox.at/wms?service=wms&request=getmap&version=1.1.1&\"\n",
    "layers = 'layers=s2cloudless-2018&'\n",
    "bbox = 'bbox=-116.21928854749297,32.903320741965295,-115.40080710218047,33.724548769309045&'\n",
    "width = 'width=4096&'\n",
    "height = 'height=4096&'\n",
    "srs = 'srs=epsg:4326'\n",
    "\n",
    "#construct and print the url\n",
    "url = root+layers+bbox+width+height+srs\n",
    "print(url)"
   ]
  },
  {
   "cell_type": "code",
   "execution_count": 10,
   "metadata": {},
   "outputs": [],
   "source": [
    "def download_all_layers(root,layers,bbox,width,height,srs,site):\n",
    "    #cycle through each layer to download\n",
    "    for layer in layers:\n",
    "        # construct a URL string \n",
    "        url = root+layer+bbox+width+height+srs\n",
    "        #download into a filename constructed as \"site_layer.jpg\"\n",
    "        urllib.request.urlretrieve(url, site+'_'+layer.split('=')[-1].split('&')[0]+'.jpg')\n",
    "        \n"
   ]
  },
  {
   "cell_type": "code",
   "execution_count": null,
   "metadata": {},
   "outputs": [],
   "source": [
    "# define the output\n",
    "#Salton Sea, USA \n",
    "bbox = 'bbox=-116.21928854749297,32.903320741965295,-115.40080710218047,33.724548769309045&'\n",
    "layers = ['layers=s2cloudless&','layers=s2cloudless-2018&']\n",
    "download_all_layers(root,layers,bbox,width,height,srs,'salton_sea')"
   ]
  }
 ],
 "metadata": {
  "kernelspec": {
   "display_name": "conda_tensorflow2_p36",
   "language": "python",
   "name": "conda_tensorflow2_p36"
  }
 },
 "nbformat": 4,
 "nbformat_minor": 4
}
